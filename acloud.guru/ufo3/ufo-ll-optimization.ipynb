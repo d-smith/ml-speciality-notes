{
 "cells": [
  {
   "cell_type": "markdown",
   "metadata": {},
   "source": [
    "## SageMaker Hyperparameter Tuning Job Lab\n",
    "   \n",
    "   This lab is to optimize the linear learner model used in the last UFO lab. The model is a multi-class classification model, so we will tune the hyperparameters to find the best combination to minimize the validation:objective_loss metric. \n",
    "   \n",
    "The results will consist of:\n",
    "\n",
    "* The best training job hyperparameters\n",
    "* Difference in time between baseline model and optimized model\n",
    "* Difference in accuracy between models\n",
    "\n",
    "### Tuning Job\n",
    "\n",
    "* SageMaker > Hyperparameter tuning jobs\n",
    "    * Create Hyperparameter tuning job\n",
    "        * name - linear-learner-tuning-job\n",
    "        * Use the same roles as the other labs\n",
    "        * linear learner built in algorithm\n",
    "        * tuning strategy - bayesian\n",
    "        * select validation:objective_loss to optimize (minimize)\n",
    "        * leave early stopping off\n",
    "        * 22 feature diminsions\n",
    "        * Predictor type - multiclass\n",
    "        "
   ]
  },
  {
   "cell_type": "code",
   "execution_count": 1,
   "metadata": {},
   "outputs": [],
   "source": [
    "import pandas as pd\n",
    "import numpy as np\n",
    "from datetime import datetime\n",
    "\n",
    "\n",
    "import boto3\n",
    "from sagemaker import get_execution_role\n",
    "import sagemaker"
   ]
  },
  {
   "cell_type": "code",
   "execution_count": 2,
   "metadata": {},
   "outputs": [],
   "source": [
    "role = get_execution_role()\n",
    "bucket = 'ds-training-data'"
   ]
  },
  {
   "cell_type": "code",
   "execution_count": null,
   "metadata": {},
   "outputs": [],
   "source": []
  }
 ],
 "metadata": {
  "kernelspec": {
   "display_name": "conda_python3",
   "language": "python",
   "name": "conda_python3"
  },
  "language_info": {
   "codemirror_mode": {
    "name": "ipython",
    "version": 3
   },
   "file_extension": ".py",
   "mimetype": "text/x-python",
   "name": "python",
   "nbconvert_exporter": "python",
   "pygments_lexer": "ipython3",
   "version": "3.6.10"
  }
 },
 "nbformat": 4,
 "nbformat_minor": 4
}
