{
 "cells": [
  {
   "cell_type": "markdown",
   "metadata": {},
   "source": [
    "## DataViz Lab\n",
    "\n",
    "Business Questions:\n",
    "\n",
    "* Which month generates the most sales?\n",
    "* Which sales person sold the most cars?\n",
    "* Which dealer sold the most cars?\n",
    "* In what year was the average price of a corvette greater than 100k?\n",
    "* Which car has several points in the box plots upper right quartile for the engine's horse power?\n",
    "\n"
   ]
  },
  {
   "cell_type": "code",
   "execution_count": 1,
   "metadata": {},
   "outputs": [],
   "source": [
    "import pandas as pd\n",
    "import numpy as np\n",
    "import matplotlib.pyplot as plt\n",
    "%matplotlib inline"
   ]
  },
  {
   "cell_type": "code",
   "execution_count": 2,
   "metadata": {},
   "outputs": [],
   "source": [
    "df = pd.read_csv('cardata.csv')"
   ]
  },
  {
   "cell_type": "code",
   "execution_count": 3,
   "metadata": {},
   "outputs": [
    {
     "data": {
      "text/html": [
       "<div>\n",
       "<style scoped>\n",
       "    .dataframe tbody tr th:only-of-type {\n",
       "        vertical-align: middle;\n",
       "    }\n",
       "\n",
       "    .dataframe tbody tr th {\n",
       "        vertical-align: top;\n",
       "    }\n",
       "\n",
       "    .dataframe thead th {\n",
       "        text-align: right;\n",
       "    }\n",
       "</style>\n",
       "<table border=\"1\" class=\"dataframe\">\n",
       "  <thead>\n",
       "    <tr style=\"text-align: right;\">\n",
       "      <th></th>\n",
       "      <th>car</th>\n",
       "      <th>year</th>\n",
       "      <th>engine_hp</th>\n",
       "      <th>avg_mpg</th>\n",
       "      <th>price</th>\n",
       "      <th>salesman</th>\n",
       "      <th>dealership</th>\n",
       "      <th>sold_date</th>\n",
       "      <th>sold_month</th>\n",
       "    </tr>\n",
       "  </thead>\n",
       "  <tbody>\n",
       "    <tr>\n",
       "      <th>0</th>\n",
       "      <td>Corvette</td>\n",
       "      <td>2011</td>\n",
       "      <td>335.0</td>\n",
       "      <td>22.5</td>\n",
       "      <td>46135</td>\n",
       "      <td>2</td>\n",
       "      <td>Big Bobs</td>\n",
       "      <td>2012-05-06</td>\n",
       "      <td>5</td>\n",
       "    </tr>\n",
       "    <tr>\n",
       "      <th>1</th>\n",
       "      <td>Corvette</td>\n",
       "      <td>2011</td>\n",
       "      <td>300.0</td>\n",
       "      <td>23.5</td>\n",
       "      <td>40650</td>\n",
       "      <td>2</td>\n",
       "      <td>Uptown Cars</td>\n",
       "      <td>2011-05-16</td>\n",
       "      <td>5</td>\n",
       "    </tr>\n",
       "    <tr>\n",
       "      <th>2</th>\n",
       "      <td>Corvette</td>\n",
       "      <td>2011</td>\n",
       "      <td>300.0</td>\n",
       "      <td>24.0</td>\n",
       "      <td>36350</td>\n",
       "      <td>2</td>\n",
       "      <td>Uptown Cars</td>\n",
       "      <td>2013-07-31</td>\n",
       "      <td>7</td>\n",
       "    </tr>\n",
       "    <tr>\n",
       "      <th>3</th>\n",
       "      <td>Corvette</td>\n",
       "      <td>2011</td>\n",
       "      <td>230.0</td>\n",
       "      <td>23.0</td>\n",
       "      <td>29450</td>\n",
       "      <td>2</td>\n",
       "      <td>Uptown Cars</td>\n",
       "      <td>2014-07-05</td>\n",
       "      <td>7</td>\n",
       "    </tr>\n",
       "    <tr>\n",
       "      <th>4</th>\n",
       "      <td>Corvette</td>\n",
       "      <td>2011</td>\n",
       "      <td>230.0</td>\n",
       "      <td>23.0</td>\n",
       "      <td>34500</td>\n",
       "      <td>2</td>\n",
       "      <td>Uptown Cars</td>\n",
       "      <td>2013-05-20</td>\n",
       "      <td>5</td>\n",
       "    </tr>\n",
       "  </tbody>\n",
       "</table>\n",
       "</div>"
      ],
      "text/plain": [
       "        car  year  engine_hp  avg_mpg  price  salesman   dealership  \\\n",
       "0  Corvette  2011      335.0     22.5  46135         2     Big Bobs   \n",
       "1  Corvette  2011      300.0     23.5  40650         2  Uptown Cars   \n",
       "2  Corvette  2011      300.0     24.0  36350         2  Uptown Cars   \n",
       "3  Corvette  2011      230.0     23.0  29450         2  Uptown Cars   \n",
       "4  Corvette  2011      230.0     23.0  34500         2  Uptown Cars   \n",
       "\n",
       "    sold_date  sold_month  \n",
       "0  2012-05-06           5  \n",
       "1  2011-05-16           5  \n",
       "2  2013-07-31           7  \n",
       "3  2014-07-05           7  \n",
       "4  2013-05-20           5  "
      ]
     },
     "execution_count": 3,
     "metadata": {},
     "output_type": "execute_result"
    }
   ],
   "source": [
    "df.head()"
   ]
  },
  {
   "cell_type": "markdown",
   "metadata": {},
   "source": [
    "## Which month generated the most sales?"
   ]
  },
  {
   "cell_type": "code",
   "execution_count": 9,
   "metadata": {},
   "outputs": [],
   "source": [
    "g = df.groupby('sold_month')[['car']].count()"
   ]
  },
  {
   "cell_type": "code",
   "execution_count": 13,
   "metadata": {},
   "outputs": [
    {
     "data": {
      "text/plain": [
       "<matplotlib.axes._subplots.AxesSubplot at 0x11558fc10>"
      ]
     },
     "execution_count": 13,
     "metadata": {},
     "output_type": "execute_result"
    },
    {
     "data": {
      "image/png": "[encoded data removed]",
      "text/plain": [
       "<Figure size 432x288 with 1 Axes>"
      ]
     },
     "metadata": {
      "needs_background": "light"
     },
     "output_type": "display_data"
    }
   ],
   "source": [
    "g.plot.bar()"
   ]
  },
  {
   "cell_type": "markdown",
   "metadata": {},
   "source": [
    "## Which sales person sold the most cars?"
   ]
  },
  {
   "cell_type": "code",
   "execution_count": 16,
   "metadata": {},
   "outputs": [
    {
     "data": {
      "text/plain": [
       "True"
      ]
     },
     "execution_count": 16,
     "metadata": {},
     "output_type": "execute_result"
    }
   ],
   "source": [
    "True"
   ]
  },
  {
   "cell_type": "code",
   "execution_count": 21,
   "metadata": {},
   "outputs": [],
   "source": [
    "g = df.groupby('salesman')[['salesman']].count()"
   ]
  },
  {
   "cell_type": "code",
   "execution_count": 22,
   "metadata": {},
   "outputs": [
    {
     "data": {
      "text/plain": [
       "<matplotlib.axes._subplots.AxesSubplot at 0x119d516d0>"
      ]
     },
     "execution_count": 22,
     "metadata": {},
     "output_type": "execute_result"
    },
    {
     "data": {
      "image/png": "[encoded data removed]",
      "text/plain": [
       "<Figure size 432x288 with 1 Axes>"
      ]
     },
     "metadata": {},
     "output_type": "display_data"
    }
   ],
   "source": [
    "g.plot.pie(y='salesman')"
   ]
  },
  {
   "cell_type": "code",
   "execution_count": 36,
   "metadata": {},
   "outputs": [],
   "source": [
    "g = df.groupby(['salesman','car'])[['car']].count()"
   ]
  },
  {
   "cell_type": "code",
   "execution_count": 37,
   "metadata": {},
   "outputs": [
    {
     "data": {
      "text/html": [
       "<div>\n",
       "<style scoped>\n",
       "    .dataframe tbody tr th:only-of-type {\n",
       "        vertical-align: middle;\n",
       "    }\n",
       "\n",
       "    .dataframe tbody tr th {\n",
       "        vertical-align: top;\n",
       "    }\n",
       "\n",
       "    .dataframe thead th {\n",
       "        text-align: right;\n",
       "    }\n",
       "</style>\n",
       "<table border=\"1\" class=\"dataframe\">\n",
       "  <thead>\n",
       "    <tr style=\"text-align: right;\">\n",
       "      <th></th>\n",
       "      <th></th>\n",
       "      <th>car</th>\n",
       "    </tr>\n",
       "    <tr>\n",
       "      <th>salesman</th>\n",
       "      <th>car</th>\n",
       "      <th></th>\n",
       "    </tr>\n",
       "  </thead>\n",
       "  <tbody>\n",
       "    <tr>\n",
       "      <th rowspan=\"3\" valign=\"top\">1</th>\n",
       "      <th>Camaro</th>\n",
       "      <td>32</td>\n",
       "    </tr>\n",
       "    <tr>\n",
       "      <th>Corvette</th>\n",
       "      <td>12</td>\n",
       "    </tr>\n",
       "    <tr>\n",
       "      <th>Mustang</th>\n",
       "      <td>46</td>\n",
       "    </tr>\n",
       "    <tr>\n",
       "      <th rowspan=\"3\" valign=\"top\">2</th>\n",
       "      <th>Camaro</th>\n",
       "      <td>185</td>\n",
       "    </tr>\n",
       "    <tr>\n",
       "      <th>Corvette</th>\n",
       "      <td>102</td>\n",
       "    </tr>\n",
       "    <tr>\n",
       "      <th>Mustang</th>\n",
       "      <td>226</td>\n",
       "    </tr>\n",
       "    <tr>\n",
       "      <th rowspan=\"3\" valign=\"top\">3</th>\n",
       "      <th>Camaro</th>\n",
       "      <td>412</td>\n",
       "    </tr>\n",
       "    <tr>\n",
       "      <th>Corvette</th>\n",
       "      <td>172</td>\n",
       "    </tr>\n",
       "    <tr>\n",
       "      <th>Mustang</th>\n",
       "      <td>470</td>\n",
       "    </tr>\n",
       "    <tr>\n",
       "      <th rowspan=\"3\" valign=\"top\">4</th>\n",
       "      <th>Camaro</th>\n",
       "      <td>117</td>\n",
       "    </tr>\n",
       "    <tr>\n",
       "      <th>Corvette</th>\n",
       "      <td>48</td>\n",
       "    </tr>\n",
       "    <tr>\n",
       "      <th>Mustang</th>\n",
       "      <td>139</td>\n",
       "    </tr>\n",
       "  </tbody>\n",
       "</table>\n",
       "</div>"
      ],
      "text/plain": [
       "                   car\n",
       "salesman car          \n",
       "1        Camaro     32\n",
       "         Corvette   12\n",
       "         Mustang    46\n",
       "2        Camaro    185\n",
       "         Corvette  102\n",
       "         Mustang   226\n",
       "3        Camaro    412\n",
       "         Corvette  172\n",
       "         Mustang   470\n",
       "4        Camaro    117\n",
       "         Corvette   48\n",
       "         Mustang   139"
      ]
     },
     "execution_count": 37,
     "metadata": {},
     "output_type": "execute_result"
    }
   ],
   "source": [
    "g"
   ]
  },
  {
   "cell_type": "code",
   "execution_count": 38,
   "metadata": {},
   "outputs": [
    {
     "data": {
      "text/plain": [
       "<matplotlib.axes._subplots.AxesSubplot at 0x119a53b50>"
      ]
     },
     "execution_count": 38,
     "metadata": {},
     "output_type": "execute_result"
    },
    {
     "data": {
      "image/png": "[encoded data removed]",
      "text/plain": [
       "<Figure size 432x288 with 1 Axes>"
      ]
     },
     "metadata": {
      "needs_background": "light"
     },
     "output_type": "display_data"
    }
   ],
   "source": [
    "g.plot.bar()"
   ]
  },
  {
   "cell_type": "markdown",
   "metadata": {},
   "source": [
    "## Which dealer sold the most cars"
   ]
  },
  {
   "cell_type": "code",
   "execution_count": 41,
   "metadata": {},
   "outputs": [],
   "source": [
    "g = df.groupby(['dealership'])[['dealership']].count()"
   ]
  },
  {
   "cell_type": "code",
   "execution_count": 42,
   "metadata": {},
   "outputs": [
    {
     "data": {
      "text/html": [
       "<div>\n",
       "<style scoped>\n",
       "    .dataframe tbody tr th:only-of-type {\n",
       "        vertical-align: middle;\n",
       "    }\n",
       "\n",
       "    .dataframe tbody tr th {\n",
       "        vertical-align: top;\n",
       "    }\n",
       "\n",
       "    .dataframe thead th {\n",
       "        text-align: right;\n",
       "    }\n",
       "</style>\n",
       "<table border=\"1\" class=\"dataframe\">\n",
       "  <thead>\n",
       "    <tr style=\"text-align: right;\">\n",
       "      <th></th>\n",
       "      <th>dealership</th>\n",
       "    </tr>\n",
       "    <tr>\n",
       "      <th>dealership</th>\n",
       "      <th></th>\n",
       "    </tr>\n",
       "  </thead>\n",
       "  <tbody>\n",
       "    <tr>\n",
       "      <th>Big Bobs</th>\n",
       "      <td>277</td>\n",
       "    </tr>\n",
       "    <tr>\n",
       "      <th>Car Town</th>\n",
       "      <td>672</td>\n",
       "    </tr>\n",
       "    <tr>\n",
       "      <th>Uptown Cars</th>\n",
       "      <td>1012</td>\n",
       "    </tr>\n",
       "  </tbody>\n",
       "</table>\n",
       "</div>"
      ],
      "text/plain": [
       "             dealership\n",
       "dealership             \n",
       "Big Bobs            277\n",
       "Car Town            672\n",
       "Uptown Cars        1012"
      ]
     },
     "execution_count": 42,
     "metadata": {},
     "output_type": "execute_result"
    }
   ],
   "source": [
    "g"
   ]
  },
  {
   "cell_type": "code",
   "execution_count": 43,
   "metadata": {},
   "outputs": [
    {
     "data": {
      "text/plain": [
       "<matplotlib.axes._subplots.AxesSubplot at 0x119c69c50>"
      ]
     },
     "execution_count": 43,
     "metadata": {},
     "output_type": "execute_result"
    },
    {
     "data": {
      "image/png": "[encoded data removed]",
      "text/plain": [
       "<Figure size 432x288 with 1 Axes>"
      ]
     },
     "metadata": {},
     "output_type": "display_data"
    }
   ],
   "source": [
    "g.plot.pie(y='dealership')"
   ]
  },
  {
   "cell_type": "markdown",
   "metadata": {},
   "source": [
    "## In what year was the average price of a corvette greater than 100k?"
   ]
  },
  {
   "cell_type": "code",
   "execution_count": 47,
   "metadata": {},
   "outputs": [
    {
     "data": {
      "text/plain": [
       "<matplotlib.axes._subplots.AxesSubplot at 0x119538490>"
      ]
     },
     "execution_count": 47,
     "metadata": {},
     "output_type": "execute_result"
    },
    {
     "data": {
      "image/png": "[encoded data removed]",
      "text/plain": [
       "<Figure size 1080x360 with 1 Axes>"
      ]
     },
     "metadata": {
      "needs_background": "light"
     },
     "output_type": "display_data"
    }
   ],
   "source": [
    "df.plot(x='sold_date',y='price', figsize=(15,5))"
   ]
  },
  {
   "cell_type": "code",
   "execution_count": 52,
   "metadata": {},
   "outputs": [
    {
     "data": {
      "text/html": [
       "<div>\n",
       "<style scoped>\n",
       "    .dataframe tbody tr th:only-of-type {\n",
       "        vertical-align: middle;\n",
       "    }\n",
       "\n",
       "    .dataframe tbody tr th {\n",
       "        vertical-align: top;\n",
       "    }\n",
       "\n",
       "    .dataframe thead th {\n",
       "        text-align: right;\n",
       "    }\n",
       "</style>\n",
       "<table border=\"1\" class=\"dataframe\">\n",
       "  <thead>\n",
       "    <tr style=\"text-align: right;\">\n",
       "      <th></th>\n",
       "      <th>car</th>\n",
       "      <th>year</th>\n",
       "      <th>engine_hp</th>\n",
       "      <th>avg_mpg</th>\n",
       "      <th>price</th>\n",
       "      <th>salesman</th>\n",
       "      <th>dealership</th>\n",
       "      <th>sold_date</th>\n",
       "      <th>sold_month</th>\n",
       "    </tr>\n",
       "  </thead>\n",
       "  <tbody>\n",
       "    <tr>\n",
       "      <th>0</th>\n",
       "      <td>Corvette</td>\n",
       "      <td>2011</td>\n",
       "      <td>335.0</td>\n",
       "      <td>22.5</td>\n",
       "      <td>46135</td>\n",
       "      <td>2</td>\n",
       "      <td>Big Bobs</td>\n",
       "      <td>2012-05-06</td>\n",
       "      <td>5</td>\n",
       "    </tr>\n",
       "    <tr>\n",
       "      <th>1</th>\n",
       "      <td>Corvette</td>\n",
       "      <td>2011</td>\n",
       "      <td>300.0</td>\n",
       "      <td>23.5</td>\n",
       "      <td>40650</td>\n",
       "      <td>2</td>\n",
       "      <td>Uptown Cars</td>\n",
       "      <td>2011-05-16</td>\n",
       "      <td>5</td>\n",
       "    </tr>\n",
       "    <tr>\n",
       "      <th>2</th>\n",
       "      <td>Corvette</td>\n",
       "      <td>2011</td>\n",
       "      <td>300.0</td>\n",
       "      <td>24.0</td>\n",
       "      <td>36350</td>\n",
       "      <td>2</td>\n",
       "      <td>Uptown Cars</td>\n",
       "      <td>2013-07-31</td>\n",
       "      <td>7</td>\n",
       "    </tr>\n",
       "    <tr>\n",
       "      <th>3</th>\n",
       "      <td>Corvette</td>\n",
       "      <td>2011</td>\n",
       "      <td>230.0</td>\n",
       "      <td>23.0</td>\n",
       "      <td>29450</td>\n",
       "      <td>2</td>\n",
       "      <td>Uptown Cars</td>\n",
       "      <td>2014-07-05</td>\n",
       "      <td>7</td>\n",
       "    </tr>\n",
       "    <tr>\n",
       "      <th>4</th>\n",
       "      <td>Corvette</td>\n",
       "      <td>2011</td>\n",
       "      <td>230.0</td>\n",
       "      <td>23.0</td>\n",
       "      <td>34500</td>\n",
       "      <td>2</td>\n",
       "      <td>Uptown Cars</td>\n",
       "      <td>2013-05-20</td>\n",
       "      <td>5</td>\n",
       "    </tr>\n",
       "    <tr>\n",
       "      <th>...</th>\n",
       "      <td>...</td>\n",
       "      <td>...</td>\n",
       "      <td>...</td>\n",
       "      <td>...</td>\n",
       "      <td>...</td>\n",
       "      <td>...</td>\n",
       "      <td>...</td>\n",
       "      <td>...</td>\n",
       "      <td>...</td>\n",
       "    </tr>\n",
       "    <tr>\n",
       "      <th>1956</th>\n",
       "      <td>Corvette</td>\n",
       "      <td>2016</td>\n",
       "      <td>240.0</td>\n",
       "      <td>28.0</td>\n",
       "      <td>49700</td>\n",
       "      <td>4</td>\n",
       "      <td>Uptown Cars</td>\n",
       "      <td>2019-09-09</td>\n",
       "      <td>9</td>\n",
       "    </tr>\n",
       "    <tr>\n",
       "      <th>1957</th>\n",
       "      <td>Corvette</td>\n",
       "      <td>2016</td>\n",
       "      <td>335.0</td>\n",
       "      <td>20.5</td>\n",
       "      <td>66350</td>\n",
       "      <td>2</td>\n",
       "      <td>Car Town</td>\n",
       "      <td>2017-04-29</td>\n",
       "      <td>4</td>\n",
       "    </tr>\n",
       "    <tr>\n",
       "      <th>1958</th>\n",
       "      <td>Corvette</td>\n",
       "      <td>2001</td>\n",
       "      <td>394.0</td>\n",
       "      <td>15.5</td>\n",
       "      <td>128000</td>\n",
       "      <td>4</td>\n",
       "      <td>Uptown Cars</td>\n",
       "      <td>2002-05-15</td>\n",
       "      <td>5</td>\n",
       "    </tr>\n",
       "    <tr>\n",
       "      <th>1959</th>\n",
       "      <td>Corvette</td>\n",
       "      <td>2002</td>\n",
       "      <td>394.0</td>\n",
       "      <td>15.5</td>\n",
       "      <td>130000</td>\n",
       "      <td>2</td>\n",
       "      <td>Uptown Cars</td>\n",
       "      <td>2002-05-07</td>\n",
       "      <td>5</td>\n",
       "    </tr>\n",
       "    <tr>\n",
       "      <th>1960</th>\n",
       "      <td>Corvette</td>\n",
       "      <td>2003</td>\n",
       "      <td>394.0</td>\n",
       "      <td>15.5</td>\n",
       "      <td>131500</td>\n",
       "      <td>3</td>\n",
       "      <td>Big Bobs</td>\n",
       "      <td>2005-02-09</td>\n",
       "      <td>2</td>\n",
       "    </tr>\n",
       "  </tbody>\n",
       "</table>\n",
       "<p>334 rows × 9 columns</p>\n",
       "</div>"
      ],
      "text/plain": [
       "           car  year  engine_hp  avg_mpg   price  salesman   dealership  \\\n",
       "0     Corvette  2011      335.0     22.5   46135         2     Big Bobs   \n",
       "1     Corvette  2011      300.0     23.5   40650         2  Uptown Cars   \n",
       "2     Corvette  2011      300.0     24.0   36350         2  Uptown Cars   \n",
       "3     Corvette  2011      230.0     23.0   29450         2  Uptown Cars   \n",
       "4     Corvette  2011      230.0     23.0   34500         2  Uptown Cars   \n",
       "...        ...   ...        ...      ...     ...       ...          ...   \n",
       "1956  Corvette  2016      240.0     28.0   49700         4  Uptown Cars   \n",
       "1957  Corvette  2016      335.0     20.5   66350         2     Car Town   \n",
       "1958  Corvette  2001      394.0     15.5  128000         4  Uptown Cars   \n",
       "1959  Corvette  2002      394.0     15.5  130000         2  Uptown Cars   \n",
       "1960  Corvette  2003      394.0     15.5  131500         3     Big Bobs   \n",
       "\n",
       "       sold_date  sold_month  \n",
       "0     2012-05-06           5  \n",
       "1     2011-05-16           5  \n",
       "2     2013-07-31           7  \n",
       "3     2014-07-05           7  \n",
       "4     2013-05-20           5  \n",
       "...          ...         ...  \n",
       "1956  2019-09-09           9  \n",
       "1957  2017-04-29           4  \n",
       "1958  2002-05-15           5  \n",
       "1959  2002-05-07           5  \n",
       "1960  2005-02-09           2  \n",
       "\n",
       "[334 rows x 9 columns]"
      ]
     },
     "execution_count": 52,
     "metadata": {},
     "output_type": "execute_result"
    }
   ],
   "source": [
    "df.loc[df['car']=='Corvette']"
   ]
  },
  {
   "cell_type": "code",
   "execution_count": 59,
   "metadata": {},
   "outputs": [
    {
     "data": {
      "text/plain": [
       "year\n",
       "1995      6376.666667\n",
       "1996      6317.000000\n",
       "1997      7158.500000\n",
       "2000      4809.333333\n",
       "2001     54313.333333\n",
       "2002     56378.000000\n",
       "2003    134200.000000\n",
       "2006     50300.000000\n",
       "2007     51100.000000\n",
       "2008     51400.000000\n",
       "2010     88900.000000\n",
       "2011     45997.500000\n",
       "2012     37875.000000\n",
       "2013     44166.666667\n",
       "2014     93730.000000\n",
       "2015     65173.786408\n",
       "2016     61910.806452\n",
       "2017     63196.835443\n",
       "Name: price, dtype: float64"
      ]
     },
     "execution_count": 59,
     "metadata": {},
     "output_type": "execute_result"
    }
   ],
   "source": [
    "p = df.loc[df['car']=='Corvette'].groupby(['year'])['price'].mean()\n",
    "p"
   ]
  },
  {
   "cell_type": "code",
   "execution_count": 60,
   "metadata": {},
   "outputs": [
    {
     "data": {
      "text/plain": [
       "<matplotlib.axes._subplots.AxesSubplot at 0x119c79690>"
      ]
     },
     "execution_count": 60,
     "metadata": {},
     "output_type": "execute_result"
    },
    {
     "data": {
      "image/png": "[encoded data removed]",
      "text/plain": [
       "<Figure size 1080x360 with 1 Axes>"
      ]
     },
     "metadata": {
      "needs_background": "light"
     },
     "output_type": "display_data"
    }
   ],
   "source": [
    "p.plot(x='year',y='price', figsize=(15,5))"
   ]
  },
  {
   "cell_type": "markdown",
   "metadata": {},
   "source": [
    "## Which car has several points in the box plots upper right quartile for the engine's horse power?"
   ]
  },
  {
   "cell_type": "code",
   "execution_count": 61,
   "metadata": {},
   "outputs": [],
   "source": [
    "df_vet = df[df['car'] == 'Corvette']\n",
    "df_mustang = df[df['car'] == 'Mustang']\n",
    "df_camaro = df[df['car'] == 'Camaro']"
   ]
  },
  {
   "cell_type": "code",
   "execution_count": 63,
   "metadata": {},
   "outputs": [
    {
     "data": {
      "image/png": "[encoded data removed]",
      "text/plain": [
       "<Figure size 432x288 with 1 Axes>"
      ]
     },
     "metadata": {
      "needs_background": "light"
     },
     "output_type": "display_data"
    }
   ],
   "source": [
    "data = [df_camaro['engine_hp'], df_vet['engine_hp'], df_mustang['engine_hp']]\n",
    "plt.boxplot(data, vert=False)\n",
    "plt.title('Engine HP Box Plot')\n",
    "plt.xlabel('Engine HP')\n",
    "plt.yticks([1, 2, 3], ['Camaro', 'Corvette', 'Mustang'])\n",
    "plt.show()"
   ]
  },
  {
   "cell_type": "code",
   "execution_count": null,
   "metadata": {},
   "outputs": [],
   "source": []
  }
 ],
 "metadata": {
  "kernelspec": {
   "display_name": "Python 3",
   "language": "python",
   "name": "python3"
  },
  "language_info": {
   "codemirror_mode": {
    "name": "ipython",
    "version": 3
   },
   "file_extension": ".py",
   "mimetype": "text/x-python",
   "name": "python",
   "nbconvert_exporter": "python",
   "pygments_lexer": "ipython3",
   "version": "3.7.7"
  }
 },
 "nbformat": 4,
 "nbformat_minor": 4
}
