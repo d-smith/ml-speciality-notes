{
 "cells": [
  {
   "cell_type": "markdown",
   "metadata": {},
   "source": [
    "# AWS Databases\n",
    "\n",
    "Standard Features\n",
    "\n",
    "* VPC deployment\n",
    "* Security groups to limit access\n",
    "* Encryption at rest, in transit\n",
    "* Replication for HA/Durability\n",
    "* Automated backup\n",
    "* Some support multi master across regions\n",
    "\n",
    "\n",
    "Services\n",
    "\n",
    "* RDS - Relational database service\n",
    "    * Aurora, PostgreSQL, MySQL, Oracle, SQL Server\n",
    "    * Used for trad apps, ERP, CRM, e-commerce\n",
    "* Redshift - data warehouse\n",
    "    * Massively parallel columnar db\n",
    "    * Integrates with S3\n",
    "* NoSQL\n",
    "    * DynamoDB, Cassandra, DocumentDB\n",
    "    * Unlimited scale, single digit millisecond latency\n",
    "* ElasticCache\n",
    "    * In memory database\n",
    "    * memcachedd and Redis version\n",
    "* Neptune\n",
    "    * Graph database, optimized for highly connected datasets, querying relationships\n",
    "* TimeStream\n",
    "    * time series database for storing and querying volume timeseries data at 1/10 the cost of relational databases\n",
    "    * iot, industrial telemery, devops\n",
    "* Quantum Ledger Database\n",
    "    * Blockchain based system for transparent, immutable, and cryptographically verifiable transaction log\n",
    "* ElasticSearch\n",
    "    * search database, store , analyzed and correlate logs from disparate applications and services\n",
    "    \n",
    "AWS Database Migration Service\n",
    "\n",
    "* One-time data replication\n",
    "* Continuous data replication from on-premises to AWS cloud (and reverse)\n",
    "* Homogenous and heterogenous replication\n",
    "\n"
   ]
  },
  {
   "cell_type": "code",
   "execution_count": null,
   "metadata": {},
   "outputs": [],
   "source": []
  }
 ],
 "metadata": {
  "kernelspec": {
   "display_name": "Python 3",
   "language": "python",
   "name": "python3"
  },
  "language_info": {
   "codemirror_mode": {
    "name": "ipython",
    "version": 3
   },
   "file_extension": ".py",
   "mimetype": "text/x-python",
   "name": "python",
   "nbconvert_exporter": "python",
   "pygments_lexer": "ipython3",
   "version": "3.7.7"
  }
 },
 "nbformat": 4,
 "nbformat_minor": 4
}
