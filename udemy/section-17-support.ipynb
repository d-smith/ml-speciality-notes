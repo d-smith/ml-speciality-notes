{
 "cells": [
  {
   "cell_type": "markdown",
   "metadata": {},
   "source": [
    "# Support Plans and Feedback\n",
    "\n",
    "## Product Improvement Feedback\n",
    "\n",
    "Feedback\n",
    "\n",
    "* Covered [here](https://aws.amazon.com/premiumsupport/knowledge-center/send-feedback-aws/)\n",
    "    * Feedback related to the console - bottom left corner of console\n",
    "    * Services feedback - AWS Discussion Forums\n",
    "    * SageMaker SDK - github\n",
    "    \n",
    "## Support Plans\n",
    "\n",
    "Support Plans\n",
    "\n",
    "* Basic\n",
    "    * For all customers - account, billing, and service level support\n",
    "    * Access to forums\n",
    "    * Trusted advisor - 7 core checks\n",
    "        * Cost optimization, performance, security, fault tolerance, service limits\n",
    "* Developer \n",
    "    * Recommended if you are experimenting or testing in AWS\n",
    "    * Adds enhanced tech support via email\n",
    "    * Response SLA: < 12 business hours system impaired\n",
    "    * General architecture guidance\n",
    "    * 29/mont of 3% for bill (greater of)\n",
    "* Business\n",
    "    * Recommended when running production workloads\n",
    "    * All trusted advisor checks\n",
    "    * 24x7 phone, email, and chat support\n",
    "    * Response SLA < 1 business hour production down\n",
    "    * Contextual architecture guidance\n",
    "    * Fee based infrastructure event management available (large events like launchs, sports, marketing, etc)\n",
    "    * greater of 100/mont or 10%...\n",
    "* Enterprise\n",
    "    * CUstomer who run a business or mission critical workloads\n",
    "    * All trused advisor checks\n",
    "    * 24x7 phone, email, and chat support\n",
    "    * Response SLA < 15 minutes\n",
    "    * Consultative review and arch guidance on specific scenarios, access to self paced labs\n",
    "    * Includes infrastructure event management\n",
    "    * Technical account manager - single point of contact\n",
    "    * greater of 15,000/month or 10%...\n",
    "    \n",
    "    "
   ]
  },
  {
   "cell_type": "code",
   "execution_count": null,
   "metadata": {},
   "outputs": [],
   "source": []
  }
 ],
 "metadata": {
  "kernelspec": {
   "display_name": "Python 3",
   "language": "python",
   "name": "python3"
  },
  "language_info": {
   "codemirror_mode": {
    "name": "ipython",
    "version": 3
   },
   "file_extension": ".py",
   "mimetype": "text/x-python",
   "name": "python",
   "nbconvert_exporter": "python",
   "pygments_lexer": "ipython3",
   "version": "3.7.7"
  }
 },
 "nbformat": 4,
 "nbformat_minor": 4
}
