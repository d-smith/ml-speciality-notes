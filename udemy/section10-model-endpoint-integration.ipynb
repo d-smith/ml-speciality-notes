{
 "cells": [
  {
   "cell_type": "markdown",
   "metadata": {},
   "source": [
    "## Model Endpoint Integration\n",
    "\n",
    "AWS provides a variety of SDKs for different SDKs, lecture looks at the boto3 and SageMaker SDKs\n",
    "\n",
    "Different ways to integrate, including:\n",
    "\n",
    "* SageMaker SDK\n",
    "* Boto3 SDK\n",
    "* Microservice - Lambda\n",
    "* Microservice - API Gateway - Lambda\n",
    "\n",
    "### Local Machine Setup - Python and Boto3\n",
    "\n",
    "* Install anaconda, use anaconda to install stuff\n",
    "    * Ignore sandboxes/environments - too bad\n",
    "    \n",
    "    \n",
    "My alternative\n",
    "\n",
    "```console\n",
    "conda create -n ml python=3.7.7 anaconda\n",
    "conda activate ml\n",
    "conda install -c anaconda boto3\n",
    "pip install sagemaker\n",
    "```\n",
    "\n",
    "For this lecture we'll use our xgboost example, and [this](https://github.com/ChandraLingam/AmazonSageMakerCourse/blob/master/IntegrationExamples/invoke_using_sagemaker_sdk.ipynb) notebook.\n",
    "\n",
    "### Deploy Endpoint\n",
    "\n",
    "To deploy an endpoint:\n",
    "\n",
    "* Endpoints - create endpoint: xgboost-biketrain-v1\n",
    "* I created from model\n",
    "\n",
    "To use our xgboost biketrain endpoint:\n",
    "\n",
    "* Go to the sagemaker course repp and launch jupyter notebook.\n",
    "* Under integration examples, open invoke using sagemaker sdk notebook.\n",
    "\n",
    "Issues with the demo:\n",
    "\n",
    "* Lots of logic - input transformations for client, transforming the output for clients, use of sagemaker sdk for client,"
   ]
  },
  {
   "cell_type": "markdown",
   "metadata": {},
   "source": [
    "### SageMaker Demo Re-Worked using boto3\n",
    "\n",
    "Demo\n",
    "\n",
    "* Open invoke using boto3 notebook\n",
    "* Doesn't solve the integration logic needed on the client, e.g. data transformation before calling, data trasformation of the results\n",
    "\n",
    "### Encapsulate Transformation Logic in a Lambda\n",
    "\n",
    "Changes for Lambda\n",
    "\n",
    "* Allow Lambda to take a JSON payload, convert to algorithm-specific payload in the lambda function.\n",
    "* XGBoost accepts only CSV and libsvm formats, so we'll convert the JSON input to CSV\n",
    "* Look at invoke using boto3 json notebook\n",
    "* The code in this notebook essentially provides the code needed for the lambda, e.g. convert input json to csv, invoke the model endpoint, transform the output and return it."
   ]
  },
  {
   "cell_type": "code",
   "execution_count": null,
   "metadata": {},
   "outputs": [],
   "source": []
  }
 ],
 "metadata": {
  "kernelspec": {
   "display_name": "Python 3",
   "language": "python",
   "name": "python3"
  },
  "language_info": {
   "codemirror_mode": {
    "name": "ipython",
    "version": 3
   },
   "file_extension": ".py",
   "mimetype": "text/x-python",
   "name": "python",
   "nbconvert_exporter": "python",
   "pygments_lexer": "ipython3",
   "version": "3.6.5"
  }
 },
 "nbformat": 4,
 "nbformat_minor": 2
}
