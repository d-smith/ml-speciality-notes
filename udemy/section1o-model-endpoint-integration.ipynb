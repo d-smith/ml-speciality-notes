{
 "cells": [
  {
   "cell_type": "markdown",
   "metadata": {},
   "source": [
    "## Model Endpoint Integration\n",
    "\n",
    "AWS provides a variety of SDKs for different SDKs, lecture looks at the boto3 and SageMaker SDKs\n",
    "\n",
    "Different ways to integrate, including:\n",
    "\n",
    "* SageMaker SDK\n",
    "* Boto3 SDK\n",
    "* Microservice - Lambda\n",
    "* Microservice - API Gateway - Lambda\n",
    "\n",
    "### Local Machine Setup - Python and Boto3\n",
    "\n",
    "* Install anaconda, use anaconda to install stuff\n",
    "    * Ignore sandboxes/environments - too bad\n",
    "    \n",
    "    \n",
    "My alternative\n",
    "\n",
    "```console\n",
    "conda create -n ml python=3.7.7 anaconda\n",
    "conda activate ml\n",
    "conda install -c anaconda boto3\n",
    "pip install sagemaker\n",
    "```\n",
    "\n",
    "For this lecture we'll use our xgboost example, and [this](https://github.com/ChandraLingam/AmazonSageMakerCourse/blob/master/IntegrationExamples/invoke_using_sagemaker_sdk.ipynb) notebook."
   ]
  },
  {
   "cell_type": "code",
   "execution_count": null,
   "metadata": {},
   "outputs": [],
   "source": []
  }
 ],
 "metadata": {
  "kernelspec": {
   "display_name": "Python 3",
   "language": "python",
   "name": "python3"
  },
  "language_info": {
   "codemirror_mode": {
    "name": "ipython",
    "version": 3
   },
   "file_extension": ".py",
   "mimetype": "text/x-python",
   "name": "python",
   "nbconvert_exporter": "python",
   "pygments_lexer": "ipython3",
   "version": "3.6.5"
  }
 },
 "nbformat": 4,
 "nbformat_minor": 2
}
