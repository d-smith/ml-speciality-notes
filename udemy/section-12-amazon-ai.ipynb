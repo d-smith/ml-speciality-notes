{
 "cells": [
  {
   "cell_type": "markdown",
   "metadata": {},
   "source": [
    "# Amazon Artificial Intelligence\n",
    "\n",
    "## Natural Language, Image, Video Analysis\n",
    "\n",
    "Pretrained AI services\n",
    "\n",
    "* Transcibe - voice to text\n",
    "* Translate - Text to text language translation\n",
    "* Comprehend - analyze text to understand the intent. \n",
    "    * Sentiment analysis, document classification, data extraction, organize text by topics\n",
    "* Polly - text to voice, speech enabled products\n",
    "* Lex - conversation using voice and text.\n",
    "    * Alexa style interactions\n",
    "* Rekognition - image and video analysis\n",
    "    * Detect objects, persons, emotions, text, inappropriate context, track people\n",
    "* Textract - extract text and data from any document\n",
    "* DeepLens - deep learning enabled video camera for developers\n",
    "* CodeGuru - automate code reviews\n",
    "* Forecast - increase forecast accuracy, combine timeseries data with other features\n",
    "* Fraud Detector - detect online fraud faster\n",
    "* Kendra - highly accurate enterprise search\n",
    "* Personalize - build real-time recomendations into your applications\n",
    "\n"
   ]
  },
  {
   "cell_type": "markdown",
   "metadata": {},
   "source": [
    "## Transcribe\n",
    "\n",
    "Example usage includes transcibing customer service calls, generating closed captions and subtitles for video, enable text search on video and audio archives, analyze text to determine intent, use extracted text to translate to other languages.\n",
    "\n",
    "Lab\n",
    "\n",
    "* [Example files](https://github.com/ChandraLingam/AmazonSageMakerCourse/tree/master/AI/Transcribe)\n",
    "* Console - open transcibe console.\n",
    "    * Can transcibe audio in real time\n",
    "    * Can upload a file to s3 for batch transciption\n",
    "    * Upload the audio sample and vocabulary files\n",
    "    * Transciption jobs > Create job\n",
    "    * Use sample wav\n",
    "    * First pass output was not very good on a text that had a lot of specialized vocabulary around XGBoost\n",
    "* Providing a set of domain specific words (custom vocabulary) will improve\n",
    "    * Vocabulary word list - words the transcibe should detect. Multiple words are separated with hyphens, acronyms with periods. Los-Angeles, F.B.I.\n",
    "    * Create/run job with the word list\n",
    "    * Better output, but word from list used verbatim, e.g. X.G.-Boost instead of XGBoost\n",
    "* Word table improves on list\n",
    "    * Provides more hints to transcribe\n",
    "    * Table with 4 tab-delimited columns: phrase (word or phrase to be recognized), IPA (international phonetic alphabet) of how the word is pronounced, Sounds like (break down into smaller pieces to mimic the way it sounds), DisplaysAs (how to display the recognized word or phrase).\n",
    "    * IPA or SoundsLike, not both.\n",
    "    * Run job with vocab table in custom vocabulary.\n",
    "    * Output much better."
   ]
  },
  {
   "cell_type": "markdown",
   "metadata": {},
   "source": [
    "## Translate\n",
    "\n",
    "Translated text to different languages\n",
    "\n",
    "Usage:\n",
    "\n",
    "* Understand reviews, text, comments in other languages\n",
    "* Localication of products and services\n",
    "* Custom terminology support\n",
    "* Real-time and batch transaction\n",
    "\n",
    "Neural network based, takes context into account, supports real time and batch translation\n",
    "\n",
    "High quality text as input - good accuracy on translation. Results not as good with poor input text quality - compounds the errors.\n",
    "\n"
   ]
  },
  {
   "cell_type": "code",
   "execution_count": null,
   "metadata": {},
   "outputs": [],
   "source": []
  }
 ],
 "metadata": {
  "kernelspec": {
   "display_name": "Python 3",
   "language": "python",
   "name": "python3"
  },
  "language_info": {
   "codemirror_mode": {
    "name": "ipython",
    "version": 3
   },
   "file_extension": ".py",
   "mimetype": "text/x-python",
   "name": "python",
   "nbconvert_exporter": "python",
   "pygments_lexer": "ipython3",
   "version": "3.7.7"
  }
 },
 "nbformat": 4,
 "nbformat_minor": 4
}
