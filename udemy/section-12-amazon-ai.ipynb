{
 "cells": [
  {
   "cell_type": "markdown",
   "metadata": {},
   "source": [
    "# Amazon Artificial Intelligence\n",
    "\n",
    "## Natural Language, Image, Video Analysis\n",
    "\n",
    "Pretrained AI services\n",
    "\n",
    "* Transcibe - voice to text\n",
    "* Translate - Text to text language translation\n",
    "* Comprehend - analyze text to understand the intent. \n",
    "    * Sentiment analysis, document classification, data extraction, organize text by topics\n",
    "* Polly - text to voice, speech enabled products\n",
    "* Lex - conversation using voice and text.\n",
    "    * Alexa style interactions\n",
    "* Rekognition - image and video analysis\n",
    "    * Detect objects, persons, emotions, text, inappropriate context, track people\n",
    "* Textract - extract text and data from any document\n",
    "* DeepLens - deep learning enabled video camera for developers\n",
    "* CodeGuru - automate code reviews\n",
    "* Forecast - increase forecast accuracy, combine timeseries data with other features\n",
    "* Fraud Detector - detect online fraud faster\n",
    "* Kendra - highly accurate enterprise search\n",
    "* Personalize - build real-time recomendations into your applications\n",
    "\n"
   ]
  },
  {
   "cell_type": "code",
   "execution_count": null,
   "metadata": {},
   "outputs": [],
   "source": []
  }
 ],
 "metadata": {
  "kernelspec": {
   "display_name": "Python 3",
   "language": "python",
   "name": "python3"
  },
  "language_info": {
   "codemirror_mode": {
    "name": "ipython",
    "version": 3
   },
   "file_extension": ".py",
   "mimetype": "text/x-python",
   "name": "python",
   "nbconvert_exporter": "python",
   "pygments_lexer": "ipython3",
   "version": "3.7.7"
  }
 },
 "nbformat": 4,
 "nbformat_minor": 4
}
