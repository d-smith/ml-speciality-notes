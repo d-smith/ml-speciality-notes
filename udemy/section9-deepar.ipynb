{
 "cells": [
  {
   "cell_type": "markdown",
   "metadata": {},
   "source": [
    "## DeepAR Time Series Prediction"
   ]
  },
  {
   "cell_type": "markdown",
   "metadata": {},
   "source": [
    "DeepAR\n",
    "\n",
    "* Supervised algorithm based on recurrent neural networks\n",
    "* Time series\n",
    "    * a series of values of a quantity obtained at successive times, often with equal intervals between them.\n",
    "    * often values in a time series are often correlated with values measured at a previous time (temperature in a day, seasonal temperature values, etc.)\n",
    "    \n",
    "Typical Use - Forecasting\n",
    "\n",
    "* Product demand\n",
    "* Passenger traffic\n",
    "* Weather trends\n",
    "\n",
    "\n",
    "\n",
    "Time series forcasting with non-time series algoritms\n",
    "\n",
    "* Do not natively handle date time features\n",
    "* Do not learn from time dependant nature of data - completely feature driven, ignore temporal order\n",
    "\n",
    "\n",
    "Time series can be made up of:\n",
    "\n",
    "* Noise - random fluctuation that cannot be explained or predicted by an algorithm\n",
    "* Seasonal data - a pattern that repeats itself at a specific frequency\n",
    "* Trends - show increase or decrease of a target value over time\n",
    "\n",
    "DeepAR Stationary vs Non-Stationary\n",
    "\n",
    "* Classical time series forecasting algorithms expect time series to be stationary (mean, standard deviation are constant over time)\n",
    "    * Requires data transformation to make it stationary\n",
    "* DeepAR does not expect data to be stationary\n",
    "    * Can experiment to see if making the data stationary improves model\n",
    "    \n",
    "DeepAR supports features to indicate external factors that influence a target value (for example black friday)\n",
    "\n",
    "DeepAR vs Classical Models\n",
    "\n",
    "* Classical forecasting methods (ARIMA or ETS) fit a single model to each time series\n",
    "* DeepAR can fit many similar time series in a single model\n",
    "* DeepAR outperforms ARIMA/ETC on datasets that contain hundreds of related time series\n",
    "\n"
   ]
  },
  {
   "cell_type": "code",
   "execution_count": null,
   "metadata": {},
   "outputs": [],
   "source": []
  }
 ],
 "metadata": {
  "kernelspec": {
   "display_name": "Python 3",
   "language": "python",
   "name": "python3"
  },
  "language_info": {
   "codemirror_mode": {
    "name": "ipython",
    "version": 3
   },
   "file_extension": ".py",
   "mimetype": "text/x-python",
   "name": "python",
   "nbconvert_exporter": "python",
   "pygments_lexer": "ipython3",
   "version": "3.6.5"
  }
 },
 "nbformat": 4,
 "nbformat_minor": 2
}
