{
 "cells": [
  {
   "cell_type": "markdown",
   "metadata": {},
   "source": [
    "## DeepAR Time Series Prediction"
   ]
  },
  {
   "cell_type": "markdown",
   "metadata": {},
   "source": [
    "## Overview\n",
    "\n",
    "DeepAR\n",
    "\n",
    "* Supervised algorithm based on recurrent neural networks\n",
    "* Time series\n",
    "    * a series of values of a quantity obtained at successive times, often with equal intervals between them.\n",
    "    * often values in a time series are often correlated with values measured at a previous time (temperature in a day, seasonal temperature values, etc.)\n",
    "    \n",
    "Typical Use - Forecasting\n",
    "\n",
    "* Product demand\n",
    "* Passenger traffic\n",
    "* Weather trends\n",
    "\n",
    "\n",
    "\n",
    "Time series forcasting with non-time series algoritms\n",
    "\n",
    "* Do not natively handle date time features\n",
    "* Do not learn from time dependant nature of data - completely feature driven, ignore temporal order\n",
    "\n",
    "\n",
    "Time series can be made up of:\n",
    "\n",
    "* Noise - random fluctuation that cannot be explained or predicted by an algorithm\n",
    "* Seasonal data - a pattern that repeats itself at a specific frequency\n",
    "* Trends - show increase or decrease of a target value over time\n",
    "\n",
    "DeepAR Stationary vs Non-Stationary\n",
    "\n",
    "* Classical time series forecasting algorithms expect time series to be stationary (mean, standard deviation are constant over time)\n",
    "    * Requires data transformation to make it stationary\n",
    "* DeepAR does not expect data to be stationary\n",
    "    * Can experiment to see if making the data stationary improves model\n",
    "    \n",
    "DeepAR supports features to indicate external factors that influence a target value (for example black friday)\n",
    "\n",
    "DeepAR vs Classical Models\n",
    "\n",
    "* Classical forecasting methods (ARIMA or ETS) fit a single model to each time series\n",
    "* DeepAR can fit many similar time series in a single model\n",
    "* DeepAR outperforms ARIMA/ETC on datasets that contain hundreds of related time series\n",
    "\n"
   ]
  },
  {
   "cell_type": "markdown",
   "metadata": {},
   "source": [
    "## Details\n",
    "\n",
    "Traing/Test - Important Differences\n",
    "\n",
    "Normal:\n",
    "\n",
    "* Data is randomly divided into training and test sets\n",
    "* Training file contains only training data\n",
    "* Test file contains only test data\n",
    "* Inference: Model predicts target for new data\n",
    "\n",
    "[DeepAR](https://docs.aws.amazon.com/sagemaker/latest/dg/deepar.html):\n",
    "\n",
    "* Data is ordered; time order must be honored, series needs to be split based on time\n",
    "* Decide how far in the future the model can predict (prediction length hyper parameter)\n",
    "* Training set: use entire time series minus the end of the series that makes us the prediction length\n",
    "* Test set has the last number of points covering the prediction length\n",
    "\n",
    "In DeepAR you train on the aggregated time series data, for example in the energy example all customer time series is used for the training. On the prediction side, for one model you would send the customer's time series through to get the prediction for the next set of points.\n",
    "\n",
    "Supports JSON lines and parquet formats for input, JSON format for inference\n",
    "\n",
    "Input fields:\n",
    "\n",
    "* start - start timestamp for the series YYYY-MM-DD HH:MM:SS\n",
    "* target - array of floating point or integer values; missing values can be NaN in JSON Lines, nan in Parquet\n",
    "* dynamic_feat - optional input features, floating point or integer values. Arrays of arrays. Each inner array represents values of a feature adn must be of same length as target. Missing values not supported.\n",
    "* cat - optional category. Category is used for identifying/encoding a time series. Each categorical feature is presented as 0 based integer.\n",
    "\n",
    "Demo: Kaggle Bike Rentals as a timeseries forecasting problem\n",
    "\n",
    "\n"
   ]
  },
  {
   "cell_type": "code",
   "execution_count": null,
   "metadata": {},
   "outputs": [],
   "source": []
  }
 ],
 "metadata": {
  "kernelspec": {
   "display_name": "Python 3",
   "language": "python",
   "name": "python3"
  },
  "language_info": {
   "codemirror_mode": {
    "name": "ipython",
    "version": 3
   },
   "file_extension": ".py",
   "mimetype": "text/x-python",
   "name": "python",
   "nbconvert_exporter": "python",
   "pygments_lexer": "ipython3",
   "version": "3.6.5"
  }
 },
 "nbformat": 4,
 "nbformat_minor": 2
}
