{
 "cells": [
  {
   "cell_type": "markdown",
   "metadata": {},
   "source": [
    "# Factorization Machines\n",
    "\n",
    "Prediction algorithm that is optimized for handline high diminional sparse datasets\n",
    "\n",
    "* Supports regression and classification\n",
    "* Personalize content - predict ratings/likeness\n",
    "    * Click prediction for ad-placement\n",
    "    * Product recommendation for user\n",
    "    * Movie recommendation\n",
    "    * News/social media feed personalization for users\n",
    "    \n",
    "Models all interactions between features using Factorized Parameters\n",
    "\n",
    "* Estimate interactions with very sparse datasets\n",
    "    * Uses pairwise feature interactions\n",
    "* Linear complexity for computing model parameters\n",
    "* Supports very large datasets\n",
    "\n",
    "Data Format\n",
    "\n",
    "* Input for training: recordio-protobuf (with float 32 values)\n",
    "* Inference: json or recordio-protobuf\n",
    "\n",
    "Resources:\n",
    "\n",
    "* [Factorization Machines paper](https://www.csie.ntu.edu.tw/~b97053/paper/Rendle2010FM.pdf)\n",
    "* [LibFM](http://www.libfm.org/)\n",
    "* [Comparison of LibFM Implementations](http://arogozhnikov.github.io/2016/02/15/TestingLibFM.html)\n",
    "* [Collaborative Filtering](https://www.youtube.com/watch?v=h9gpufJFF-0)\n",
    "\n"
   ]
  },
  {
   "cell_type": "markdown",
   "metadata": {},
   "source": [
    "## Movie Lens Sample\n",
    "\n",
    "Dataset available from [here](http://files.grouplens.org/datasets/movielens/ml-latest-small.zip)\n",
    "\n"
   ]
  },
  {
   "cell_type": "code",
   "execution_count": null,
   "metadata": {},
   "outputs": [],
   "source": []
  }
 ],
 "metadata": {
  "kernelspec": {
   "display_name": "Python 3",
   "language": "python",
   "name": "python3"
  },
  "language_info": {
   "codemirror_mode": {
    "name": "ipython",
    "version": 3
   },
   "file_extension": ".py",
   "mimetype": "text/x-python",
   "name": "python",
   "nbconvert_exporter": "python",
   "pygments_lexer": "ipython3",
   "version": "3.6.5"
  }
 },
 "nbformat": 4,
 "nbformat_minor": 2
}
