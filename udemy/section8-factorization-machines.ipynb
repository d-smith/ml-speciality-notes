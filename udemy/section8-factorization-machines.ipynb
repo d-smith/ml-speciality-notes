{
 "cells": [
  {
   "cell_type": "markdown",
   "metadata": {},
   "source": [
    "# Factorization Machines\n",
    "\n",
    "Prediction algorithm that is optimized for handline high diminional sparse datasets\n",
    "\n",
    "* Supports regression and classification\n",
    "* Personalize content - predict ratings/likeness\n",
    "    * Click prediction for ad-placement\n",
    "    * Product recommendation for user\n",
    "    * Movie recommendation\n",
    "    * News/social media feed personalization for users\n",
    "    \n",
    "Models all interactions between features using Factorized Parameters\n",
    "\n",
    "* Estimate interactions with very sparse datasets\n",
    "    * Uses pairwise feature interactions\n",
    "* Linear complexity for computing model parameters\n",
    "* Supports very large datasets\n",
    "\n",
    "Data Format\n",
    "\n",
    "* Input for training: recordio-protobuf (with float 32 values)\n",
    "* Inference: json or recordio-protobuf\n",
    "\n",
    "Resources:\n",
    "\n",
    "* [Factorization Machines paper](https://www.csie.ntu.edu.tw/~b97053/paper/Rendle2010FM.pdf)\n",
    "* [LibFM](http://www.libfm.org/)\n",
    "* [Comparison of LibFM Implementations](http://arogozhnikov.github.io/2016/02/15/TestingLibFM.html)\n",
    "* [Collaborative Filtering](https://www.youtube.com/watch?v=h9gpufJFF-0)\n",
    "\n"
   ]
  },
  {
   "cell_type": "markdown",
   "metadata": {},
   "source": [
    "## Movie Recommendations\n",
    "\n",
    "Recommendations example:\n",
    "\n",
    "* Dataset available from [here](http://files.grouplens.org/datasets/movielens/ml-latest-small.zip)\n",
    "* Data Prep file [here](https://github.com/ChandraLingam/AmazonSageMakerCourse/blob/master/fm/movie_data_preparation.ipynb)\n",
    "    * Factorization machines - categorical data must be one-hot encoded.\n",
    "* Training notebook [here](https://github.com/ChandraLingam/AmazonSageMakerCourse/blob/master/fm/fm_cloud_training_template.ipynb)\n",
    "    * SageMaker expects all data to be in float32 format\n",
    "    * One hot encode as float32\n",
    "    * Note users and movies are one hot encoded - 600+ columns for users, 9000+ columns for movies \n",
    "    * Store the data in sparse format - use sagemaker sdk write_spmatrix_to_sparse_tensor\n",
    "    \n",
    "    "
   ]
  },
  {
   "cell_type": "code",
   "execution_count": null,
   "metadata": {},
   "outputs": [],
   "source": []
  }
 ],
 "metadata": {
  "kernelspec": {
   "display_name": "Python 3",
   "language": "python",
   "name": "python3"
  },
  "language_info": {
   "codemirror_mode": {
    "name": "ipython",
    "version": 3
   },
   "file_extension": ".py",
   "mimetype": "text/x-python",
   "name": "python",
   "nbconvert_exporter": "python",
   "pygments_lexer": "ipython3",
   "version": "3.6.5"
  }
 },
 "nbformat": 4,
 "nbformat_minor": 2
}
