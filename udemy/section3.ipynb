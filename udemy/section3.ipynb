{
 "cells": [
  {
   "cell_type": "markdown",
   "metadata": {},
   "source": [
    "# Notes from Section 3 Machine Learning Concepts\n",
    "\n",
    "Three types of machine learning:\n",
    "\n",
    "* Supervised\n",
    "* Unsupervised\n",
    "* Reinforcement Learning\n",
    "\n",
    "## Supervised Learning\n",
    "\n",
    "Train a model with labeled data, predict the output for a new input.\n",
    "\n",
    "Different models can yield different predictions - how to you evaluate different models?\n",
    "\n",
    "Training data often arranged in tables.\n",
    "\n",
    "* Rows: Example, sample, instance, or observation\n",
    "* Columns: Feature or attribute\n",
    "* Labeled output column: label or target\n",
    "\n",
    "Labeled data typically split into two parts: training set and test set.\n",
    "\n",
    "* Build model with the training set\n",
    "* Test the model using the test set\n",
    "\n",
    "Test results can be used in evaluating data quality.\n",
    "\n",
    "You need to be careful in how you split the labeled data into training and test sets. Often techniques like shuffling are applied.\n",
    "\n",
    "### Regression Models\n",
    "\n",
    "Use to predict a numeric output, e.g. home prices.\n",
    "\n",
    "### Binary Classification\n",
    "\n",
    "Predict a binary output, e.g. yes, no. Email spam, does the social media post need a response.\n",
    "\n",
    "### Multi-Class Classification\n",
    "\n",
    "Used for predicting one out of several outcomes, e.g. How is the weather tomorrow (sunny, rainly, windy, snowy, etc)\n",
    "\n",
    "## Unsupervised Learning\n",
    "\n",
    "There is no defined target, only data. Used to group similar observerations.\n",
    "\n",
    "Example uses: anomaly detection, words using in similar context, group similar documents, customer segmentation.\n",
    "\n",
    "Unsupervised Learning Algorithms\n",
    "\n",
    "* Clustering\n",
    "* Dimensionality Reduction (reduce number of features for a model)\n",
    "    * Principle Component Algorithm\n",
    "* Groups words that are used in similar context or have similar meansings\n",
    "\n",
    "## Reinforcement Learning\n",
    "\n",
    "Used in circumstances where decisions must be made under uncertainty. Examples: autonomous driving, games.\n",
    "\n",
    "Reinforcement learning usesreward functions to reward correct decisions and punish incorrect decisions."
   ]
  },
  {
   "cell_type": "code",
   "execution_count": null,
   "metadata": {},
   "outputs": [],
   "source": []
  }
 ],
 "metadata": {
  "kernelspec": {
   "display_name": "Python 3",
   "language": "python",
   "name": "python3"
  },
  "language_info": {
   "codemirror_mode": {
    "name": "ipython",
    "version": 3
   },
   "file_extension": ".py",
   "mimetype": "text/x-python",
   "name": "python",
   "nbconvert_exporter": "python",
   "pygments_lexer": "ipython3",
   "version": "3.7.3"
  }
 },
 "nbformat": 4,
 "nbformat_minor": 2
}
