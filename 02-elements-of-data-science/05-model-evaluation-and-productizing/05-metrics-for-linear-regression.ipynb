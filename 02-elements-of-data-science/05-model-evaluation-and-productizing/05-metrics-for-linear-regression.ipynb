{
 "cells": [
  {
   "cell_type": "markdown",
   "metadata": {},
   "source": [
    "# Metrics for Linear Regression\n",
    "\n",
    "Confusion matrix does not make sense for linear regression, where the outcome is a numeric value.\n",
    "\n",
    "## Mean Squared Error\n",
    "\n",
    "Average squared error over entire dataset\n",
    "\n",
    "\n",
    "*Mean squared error (MSE)* = $ \\frac{1}{N} \\sum_{n=1}^{N} {(\\hat{y_i} - y_i)}^2$\n",
    "\n",
    "* Very commonly used\n",
    "* sklearn.metrics.mean_squared_error\n",
    "\n",
    "## R2: Coefficient of Determiniation\n",
    "\n",
    "* $ R^2 = 1 - \\frac{sum\\;of\\;squared\\;error\\;(sse)}{Var(y)}$ which is betweeen 0 and 1\n",
    "* Interpretation: Fraction of variance accounted for by the model\n",
    "* Basically, standardized version of MSE\n",
    "* Good $R^2$ are determined by the actual problem\n",
    "* $R^2$ always increases when more variables are added to the model\n",
    "$Adjusted\\;R^2 = 1 - (1 - R^2) \\frac{no.\\;of\\;data\\;pts - 1}{no.\\;data\\;pts-no\\;vars\\;-1}$\n",
    "* Takes into account of the effect of adding more variable such that it only increases when the added variables have significant effect in prediction\n",
    "* $R^2$ will always increase when more explanatory variables are added to the model, highest $R^2$ may not be the best model\n",
    "* Adjusted $R^2$ is a better metric for multiple variates regression\n",
    "* sklearn.metrics.r2_score"
   ]
  },
  {
   "cell_type": "markdown",
   "metadata": {},
   "source": [
    "## Normal Distribution\n",
    "\n",
    "Guassian Distribution Probability Density Function\n",
    "\n",
    "$$P(x) = \\frac{1}{{\\sqrt {2\\pi\\sigma^2 } }}e^{-\\frac{(x - \\mu)^2}{2 \\sigma^2}}$$\n",
    "\n",
    "* $\\mu$ is the mean or expectation of the distribution\n",
    "* $\\sigma$ is the standard deviation\n",
    "* $\\sigma^2$ is the variance\n",
    "\n",
    "Why do we study normal distribution so often?\n",
    "\n",
    "* Central Limit Theorem: no matter what is the original distribution of X, the mean of X will follow a normal distribution $\\bar{X} \\sim N (\\mu,\\frac{\\sigma^2}{n})$\n",
    "* Distribution is symmetric, standard deviations give us an idea of the distribution of the density, used for confidence intervals\n",
    "    * 68% with in 1 $\\sigma$\n",
    "    * 95% within 2 $\\sigma$\n",
    "    * 99.7% within 3 $\\sigma$"
   ]
  },
  {
   "cell_type": "code",
   "execution_count": 3,
   "metadata": {},
   "outputs": [],
   "source": [
    "# Shout out for plot code: https://www.datacamp.com/community/tutorials/probability-distributions-python\n",
    "\n",
    "# for inline plots in jupyter\n",
    "%matplotlib inline\n",
    "# import matplotlib\n",
    "import matplotlib.pyplot as plt\n",
    "# for latex equations\n",
    "from IPython.display import Math, Latex\n",
    "# for displaying images\n",
    "from IPython.core.display import Image"
   ]
  },
  {
   "cell_type": "code",
   "execution_count": 4,
   "metadata": {},
   "outputs": [],
   "source": [
    "# import seaborn\n",
    "import seaborn as sns\n",
    "# settings for seaborn plotting style\n",
    "sns.set(color_codes=True)\n",
    "# settings for seaborn plot sizes\n",
    "sns.set(rc={'figure.figsize':(5,5)})"
   ]
  },
  {
   "cell_type": "code",
   "execution_count": 6,
   "metadata": {},
   "outputs": [],
   "source": [
    "from scipy.stats import norm\n",
    "# generate random numbers from N(0,1)\n",
    "data_normal = norm.rvs(size=100000,loc=0,scale=1)"
   ]
  },
  {
   "cell_type": "code",
   "execution_count": 7,
   "metadata": {},
   "outputs": [
    {
     "data": {
      "text/plain": [
       "[Text(0, 0.5, 'Frequency'), Text(0.5, 0, 'Normal Distribution')]"
      ]
     },
     "execution_count": 7,
     "metadata": {},
     "output_type": "execute_result"
    },
    {
     "data": {
      "image/png": "[encoded data removed]",
      "text/plain": [
       "<Figure size 360x360 with 1 Axes>"
      ]
     },
     "metadata": {},
     "output_type": "display_data"
    }
   ],
   "source": [
    "ax = sns.distplot(data_normal,\n",
    "                  bins=100,\n",
    "                  kde=True,\n",
    "                  color='skyblue',\n",
    "                  hist_kws={\"linewidth\": 15,'alpha':1})\n",
    "ax.set(xlabel='Normal Distribution', ylabel='Frequency')"
   ]
  },
  {
   "cell_type": "markdown",
   "metadata": {},
   "source": [
    "## Confidence Interval\n",
    "\n",
    "* An average computed on a sample is merely an estimate of the true population mean\n",
    "* Confidence interval: Quantifies margin-of-error between sample metric and true metric due to sampling randomness\n",
    "* Informal interpretation: with x% confidence, true metric lies within the interval\n",
    "* Precisely: if the true distribution is as stated, then with x% probability the observed value is in the internal\n",
    "* Z-score: quantifies how much the value is above or below the mean in terms of its standard deviation\n",
    "* typically see 90%, 95%, and 99% used as the confidence level\n",
    "\n",
    "For population proportion (e.g. truth) the confidence interval is\n",
    "\n",
    "* CI = $p \\pm z(p(1 - p)/n)^\\frac{1}{2}$\n",
    "* Where p is the sample proportion, n is sample size, and z is z score in the table below, which is determined by the confidence level\n",
    "\n",
    "\n",
    "| Prob = r | z-score = $z_r$ |\n",
    "| --- | --- |\n",
    "| 0.90 | 1.645 |\n",
    "| 0.95 | 1.96 |\n",
    "| 0.98 | 2.326 |\n",
    "| 0.99 | 2.576 |\n",
    "\n",
    "\n",
    "For population mean (i.e. truth), the confidence interval is\n",
    "\n",
    "* CI = $\\bar{X}\\pm z*s/n^\\frac{1}{2}$\n",
    "* Where $\\bar{X}$ is the sample mean, n is sample size, s is sample standard deviation, and z is z-score\n",
    "* Assumptions: n > 30 and p not close to 0 or 1\n",
    "* Doesn't capture error due to other sources of bias"
   ]
  },
  {
   "cell_type": "code",
   "execution_count": null,
   "metadata": {},
   "outputs": [],
   "source": []
  }
 ],
 "metadata": {
  "kernelspec": {
   "display_name": "Python 3",
   "language": "python",
   "name": "python3"
  },
  "language_info": {
   "codemirror_mode": {
    "name": "ipython",
    "version": 3
   },
   "file_extension": ".py",
   "mimetype": "text/x-python",
   "name": "python",
   "nbconvert_exporter": "python",
   "pygments_lexer": "ipython3",
   "version": "3.7.3"
  }
 },
 "nbformat": 4,
 "nbformat_minor": 2
}
