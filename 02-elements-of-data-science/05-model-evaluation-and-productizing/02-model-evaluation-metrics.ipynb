{
 "cells": [
  {
   "cell_type": "markdown",
   "metadata": {},
   "source": [
    "# Model Evaluation Metrics\n",
    "\n",
    "## Business Metrics vs Model Metrics\n",
    "\n",
    "* Business metrics may not be the same as the performance metrics that are optimized during training.\n",
    "    * Example: click-through rate\n",
    "* Ideally, performance metrics are highly correlated with business metrics\n",
    "\n",
    "## Confusion Matrix\n",
    "\n",
    "| | predicted P | predicted N |\n",
    "|--|----|----|\n",
    "| actual P | true positives (TP) | false negatives (FN)\n",
    "| actual N | false positives (FP) | true negatives (TN)"
   ]
  },
  {
   "cell_type": "markdown",
   "metadata": {},
   "source": [
    "$$ Accuracy =  \\frac{TP + TN}{TP + TN + FP + FN} $$\n",
    "\n",
    "Also called score.\n",
    "\n",
    "Accuracy is not a good metric when you have a lot of true negative cases, for example with breast cancer detection. In this case TN dwarfs the other categories, making accuracy negative for comparing models."
   ]
  },
  {
   "cell_type": "markdown",
   "metadata": {},
   "source": [
    "## Precision\n",
    "\n",
    "Precision is the proportion of positive predictions that are actually correct.\n",
    "\n",
    "$$ Precision = \\frac{TP}{TP + FP} $$\n",
    "\n",
    "## Recall\n",
    "\n",
    "Recall is the proportion of positives that are identified as positive\n",
    "\n",
    "$$ Recall = \\frac{TP}{TP + FN} $$\n",
    "\n",
    "## F1-Score\n",
    "\n",
    "F1-Score is the combination (harmonic mean) of precision and recall\n",
    "\n",
    "$$ F_{1}-Score = \\frac{2 \\cdot Precision \\cdot Recall}{Precision + Recall} $$"
   ]
  },
  {
   "cell_type": "code",
   "execution_count": null,
   "metadata": {},
   "outputs": [],
   "source": []
  }
 ],
 "metadata": {
  "kernelspec": {
   "display_name": "Python 3",
   "language": "python",
   "name": "python3"
  },
  "language_info": {
   "codemirror_mode": {
    "name": "ipython",
    "version": 3
   },
   "file_extension": ".py",
   "mimetype": "text/x-python",
   "name": "python",
   "nbconvert_exporter": "python",
   "pygments_lexer": "ipython3",
   "version": "3.7.3"
  }
 },
 "nbformat": 4,
 "nbformat_minor": 2
}
