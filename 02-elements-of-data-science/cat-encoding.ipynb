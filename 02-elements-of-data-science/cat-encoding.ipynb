{
 "cells": [
  {
   "cell_type": "markdown",
   "metadata": {},
   "source": [
    "## Sample Encodings"
   ]
  },
  {
   "cell_type": "code",
   "execution_count": 4,
   "metadata": {},
   "outputs": [
    {
     "data": {
      "text/html": [
       "<div>\n",
       "<style scoped>\n",
       "    .dataframe tbody tr th:only-of-type {\n",
       "        vertical-align: middle;\n",
       "    }\n",
       "\n",
       "    .dataframe tbody tr th {\n",
       "        vertical-align: top;\n",
       "    }\n",
       "\n",
       "    .dataframe thead th {\n",
       "        text-align: right;\n",
       "    }\n",
       "</style>\n",
       "<table border=\"1\" class=\"dataframe\">\n",
       "  <thead>\n",
       "    <tr style=\"text-align: right;\">\n",
       "      <th></th>\n",
       "      <th>type</th>\n",
       "      <th>bedrooms</th>\n",
       "      <th>area</th>\n",
       "      <th>garden_size</th>\n",
       "      <th>price</th>\n",
       "      <th>loan_approved</th>\n",
       "    </tr>\n",
       "  </thead>\n",
       "  <tbody>\n",
       "    <tr>\n",
       "      <th>0</th>\n",
       "      <td>house</td>\n",
       "      <td>3</td>\n",
       "      <td>2572</td>\n",
       "      <td>S</td>\n",
       "      <td>1372000</td>\n",
       "      <td>Y</td>\n",
       "    </tr>\n",
       "    <tr>\n",
       "      <th>1</th>\n",
       "      <td>apartment</td>\n",
       "      <td>2</td>\n",
       "      <td>1386</td>\n",
       "      <td>N</td>\n",
       "      <td>699000</td>\n",
       "      <td>N</td>\n",
       "    </tr>\n",
       "    <tr>\n",
       "      <th>2</th>\n",
       "      <td>house</td>\n",
       "      <td>3</td>\n",
       "      <td>1932</td>\n",
       "      <td>L</td>\n",
       "      <td>800000</td>\n",
       "      <td>Y</td>\n",
       "    </tr>\n",
       "    <tr>\n",
       "      <th>3</th>\n",
       "      <td>house</td>\n",
       "      <td>1</td>\n",
       "      <td>851</td>\n",
       "      <td>M</td>\n",
       "      <td>451000</td>\n",
       "      <td>Y</td>\n",
       "    </tr>\n",
       "    <tr>\n",
       "      <th>4</th>\n",
       "      <td>apartment</td>\n",
       "      <td>1</td>\n",
       "      <td>600</td>\n",
       "      <td>N</td>\n",
       "      <td>325000</td>\n",
       "      <td>N</td>\n",
       "    </tr>\n",
       "  </tbody>\n",
       "</table>\n",
       "</div>"
      ],
      "text/plain": [
       "        type  bedrooms  area garden_size    price loan_approved\n",
       "0      house         3  2572           S  1372000             Y\n",
       "1  apartment         2  1386           N   699000             N\n",
       "2      house         3  1932           L   800000             Y\n",
       "3      house         1   851           M   451000             Y\n",
       "4  apartment         1   600           N   325000             N"
      ]
     },
     "execution_count": 4,
     "metadata": {},
     "output_type": "execute_result"
    }
   ],
   "source": [
    "import pandas as pd\n",
    "df = pd.DataFrame([['house',3,2572,'S',1372000,'Y'],\n",
    "                  ['apartment',2,1386,'N',699000,'N'],\n",
    "                 ['house',3,1932,'L',800000,'Y'],\n",
    "                   ['house',1,851,'M', 451000,'Y'],\n",
    "                   ['apartment',1,600,'N',325000,'N']])\n",
    "df.columns = ['type', 'bedrooms','area','garden_size','price','loan_approved']\n",
    "df"
   ]
  },
  {
   "cell_type": "code",
   "execution_count": 5,
   "metadata": {},
   "outputs": [],
   "source": [
    "mapping = dict({'N':0,'S':5, 'M':10, 'L':20})"
   ]
  },
  {
   "cell_type": "code",
   "execution_count": 6,
   "metadata": {},
   "outputs": [
    {
     "data": {
      "text/plain": [
       "{'N': 0, 'S': 5, 'M': 10, 'L': 20}"
      ]
     },
     "execution_count": 6,
     "metadata": {},
     "output_type": "execute_result"
    }
   ],
   "source": [
    "mapping"
   ]
  },
  {
   "cell_type": "code",
   "execution_count": 7,
   "metadata": {},
   "outputs": [
    {
     "data": {
      "text/html": [
       "<div>\n",
       "<style scoped>\n",
       "    .dataframe tbody tr th:only-of-type {\n",
       "        vertical-align: middle;\n",
       "    }\n",
       "\n",
       "    .dataframe tbody tr th {\n",
       "        vertical-align: top;\n",
       "    }\n",
       "\n",
       "    .dataframe thead th {\n",
       "        text-align: right;\n",
       "    }\n",
       "</style>\n",
       "<table border=\"1\" class=\"dataframe\">\n",
       "  <thead>\n",
       "    <tr style=\"text-align: right;\">\n",
       "      <th></th>\n",
       "      <th>type</th>\n",
       "      <th>bedrooms</th>\n",
       "      <th>area</th>\n",
       "      <th>garden_size</th>\n",
       "      <th>price</th>\n",
       "      <th>loan_approved</th>\n",
       "      <th>num_garden_size</th>\n",
       "    </tr>\n",
       "  </thead>\n",
       "  <tbody>\n",
       "    <tr>\n",
       "      <th>0</th>\n",
       "      <td>house</td>\n",
       "      <td>3</td>\n",
       "      <td>2572</td>\n",
       "      <td>S</td>\n",
       "      <td>1372000</td>\n",
       "      <td>Y</td>\n",
       "      <td>5</td>\n",
       "    </tr>\n",
       "    <tr>\n",
       "      <th>1</th>\n",
       "      <td>apartment</td>\n",
       "      <td>2</td>\n",
       "      <td>1386</td>\n",
       "      <td>N</td>\n",
       "      <td>699000</td>\n",
       "      <td>N</td>\n",
       "      <td>0</td>\n",
       "    </tr>\n",
       "    <tr>\n",
       "      <th>2</th>\n",
       "      <td>house</td>\n",
       "      <td>3</td>\n",
       "      <td>1932</td>\n",
       "      <td>L</td>\n",
       "      <td>800000</td>\n",
       "      <td>Y</td>\n",
       "      <td>20</td>\n",
       "    </tr>\n",
       "    <tr>\n",
       "      <th>3</th>\n",
       "      <td>house</td>\n",
       "      <td>1</td>\n",
       "      <td>851</td>\n",
       "      <td>M</td>\n",
       "      <td>451000</td>\n",
       "      <td>Y</td>\n",
       "      <td>10</td>\n",
       "    </tr>\n",
       "    <tr>\n",
       "      <th>4</th>\n",
       "      <td>apartment</td>\n",
       "      <td>1</td>\n",
       "      <td>600</td>\n",
       "      <td>N</td>\n",
       "      <td>325000</td>\n",
       "      <td>N</td>\n",
       "      <td>0</td>\n",
       "    </tr>\n",
       "  </tbody>\n",
       "</table>\n",
       "</div>"
      ],
      "text/plain": [
       "        type  bedrooms  area garden_size    price loan_approved  \\\n",
       "0      house         3  2572           S  1372000             Y   \n",
       "1  apartment         2  1386           N   699000             N   \n",
       "2      house         3  1932           L   800000             Y   \n",
       "3      house         1   851           M   451000             Y   \n",
       "4  apartment         1   600           N   325000             N   \n",
       "\n",
       "   num_garden_size  \n",
       "0                5  \n",
       "1                0  \n",
       "2               20  \n",
       "3               10  \n",
       "4                0  "
      ]
     },
     "execution_count": 7,
     "metadata": {},
     "output_type": "execute_result"
    }
   ],
   "source": [
    "df['num_garden_size'] = df['garden_size'].map(mapping)\n",
    "df"
   ]
  },
  {
   "cell_type": "code",
   "execution_count": 8,
   "metadata": {},
   "outputs": [],
   "source": [
    "from sklearn.preprocessing import LabelEncoder"
   ]
  },
  {
   "cell_type": "code",
   "execution_count": 10,
   "metadata": {},
   "outputs": [
    {
     "data": {
      "text/plain": [
       "array([1, 0, 1, 1, 0])"
      ]
     },
     "execution_count": 10,
     "metadata": {},
     "output_type": "execute_result"
    }
   ],
   "source": [
    "loan_enc = LabelEncoder()\n",
    "y = loan_enc.fit_transform(df['loan_approved'])\n",
    "y"
   ]
  },
  {
   "cell_type": "code",
   "execution_count": null,
   "metadata": {},
   "outputs": [],
   "source": []
  }
 ],
 "metadata": {
  "kernelspec": {
   "display_name": "Python 3",
   "language": "python",
   "name": "python3"
  },
  "language_info": {
   "codemirror_mode": {
    "name": "ipython",
    "version": 3
   },
   "file_extension": ".py",
   "mimetype": "text/x-python",
   "name": "python",
   "nbconvert_exporter": "python",
   "pygments_lexer": "ipython3",
   "version": "3.6.5"
  }
 },
 "nbformat": 4,
 "nbformat_minor": 2
}
